{
 "cells": [
  {
   "cell_type": "markdown",
   "metadata": {},
   "source": [
    "# ML Task"
   ]
  },
  {
   "cell_type": "markdown",
   "metadata": {},
   "source": [
    "## Data Set Information\n",
    "\n",
    "This database contains 76 attributes, but all published experiments refer to using a subset of 14 of them. In particular, the Cleveland database is the only one that has been used by ML researchers to\n",
    "this date. The \"goal\" field refers to the presence of heart disease in the patient. It is integer valued from 0 (no presence) to 4. Experiments with the Cleveland database have concentrated on simply attempting to distinguish presence (values 1,2,3,4) from absence (value 0).\n",
    "\n",
    "The names and social security numbers of the patients were recently removed from the database, replaced with dummy values.\n",
    "\n",
    "Attribute Information:\n",
    "\n",
    "Only 14 attributes used:\n",
    "\n",
    "#1 (age)\n",
    "#2 (sex)\n",
    "#3 (cp)\n",
    "#4 (trestbps)\n",
    "#5 (chol)\n",
    "#6 (fbs)\n",
    "#7 (restecg)\n",
    "#8 (thalach)\n",
    "#9 (exang)\n",
    "#10 (oldpeak)\n",
    "#11 (slope)\n",
    "#12 (ca)\n",
    "#13 (thal)\n",
    "#14 (num) (the predicted attribute)\n",
    "\n",
    "Complete attribute documentation:\n",
    "#1 age: age in years\n",
    "#2 sex: sex (1 = male; 0 = female)\n",
    "#3 cp: chest pain type\n",
    "#-- Value 1: typical angina\n",
    "#-- Value 2: atypical angina\n",
    "#-- Value 3: non-anginal pain\n",
    "#-- Value 4: asymptomatic\n",
    "#4 trestbps: resting blood pressure (in mm Hg on admission to the hospital)\n",
    "#5 chol: serum cholestoral in mg/dl\n",
    "#6 fbs: (fasting blood sugar > 120 mg/dl) (1 = true; 0 = false)\n",
    "#7 restecg: resting electrocardiographic results\n",
    "#-- Value 0: normal\n",
    "#-- Value 1: having ST-T wave abnormality (T wave inversions and/or ST elevation or depression of > 0.05 mV)\n",
    "#-- Value 2: showing probable or definite left ventricular hypertrophy by Estes' criteria\n",
    "#8 thalach: maximum heart rate achieved\n",
    "#9 exang: exercise induced angina (1 = yes; 0 = no)\n",
    "#10 oldpeak = ST depression induced by exercise relative to rest\n",
    "#11 slope: the slope of the peak exercise ST segment\n",
    "#-- Value 1: upsloping\n",
    "#-- Value 2: flat\n",
    "#-- Value 3: downsloping\n",
    "#12 ca: number of major vessels (0-3) colored by flourosopy\n",
    "#13 thal: 3 = normal; 6 = fixed defect; 7 = reversable defect\n",
    "#14 num: diagnosis of heart disease (angiographic disease status)\n",
    "#-- Value 0: < 50% diameter narrowing\n",
    "#-- Value 1: > 50% diameter narrowing\n",
    "#(in any major vessel: attributes 59 through 68 are vessels)"
   ]
  },
  {
   "cell_type": "markdown",
   "metadata": {},
   "source": [
    "## Task information\n",
    "The dataset contains many medical indicators, the goal is to predict the angiographic disease status of heart disease in column 14. \n",
    "\n",
    "Your final presentation should walk through the complete data process pipeline and show the weight and relationships of variables on predicting the health risk. A good presentation of the intermediary steps and a justification of the techniques used will be particularly appreciated.\n",
    "\n",
    "You're free to create the pipeline and use the algortihms that you believe are the best ones to fit the problem."
   ]
  },
  {
   "cell_type": "code",
   "execution_count": null,
   "metadata": {
    "collapsed": true
   },
   "outputs": [],
   "source": []
  }
 ],
 "metadata": {
  "kernelspec": {
   "display_name": "Python 3",
   "language": "python",
   "name": "python3"
  },
  "language_info": {
   "codemirror_mode": {
    "name": "ipython",
    "version": 3
   },
   "file_extension": ".py",
   "mimetype": "text/x-python",
   "name": "python",
   "nbconvert_exporter": "python",
   "pygments_lexer": "ipython3",
   "version": "3.7.0"
  }
 },
 "nbformat": 4,
 "nbformat_minor": 2
}
